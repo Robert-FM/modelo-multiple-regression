{
 "cells": [
  {
   "cell_type": "code",
   "execution_count": 34,
   "id": "88796db3",
   "metadata": {},
   "outputs": [],
   "source": [
    "import pandas as pd\n",
    "import numpy as np\n",
    "import seaborn as sns\n",
    "from sklearn.linear_model import LinearRegression\n",
    "from sklearn.preprocessing import LabelEncoder\n",
    "from sklearn.preprocessing import StandardScaler\n",
    "from sklearn.model_selection import cross_val_score, KFold, train_test_split\n",
    "from sklearn.metrics import mean_squared_error, mean_absolute_error, r2_score, make_scorer\n",
    "import matplotlib.pyplot as plt\n"
   ]
  },
  {
   "cell_type": "code",
   "execution_count": 35,
   "id": "0f909d2a",
   "metadata": {},
   "outputs": [
    {
     "name": "stdout",
     "output_type": "stream",
     "text": [
      "   fixed acidity  volatile acidity  citric acid  residual sugar  chlorides  \\\n",
      "0            7.4              0.70         0.00             1.9      0.076   \n",
      "1            7.8              0.88         0.00             2.6      0.098   \n",
      "2            7.8              0.76         0.04             2.3      0.092   \n",
      "3           11.2              0.28         0.56             1.9      0.075   \n",
      "4            7.4              0.70         0.00             1.9      0.076   \n",
      "\n",
      "   free sulfur dioxide  total sulfur dioxide  density    pH  sulphates  \\\n",
      "0                 11.0                  34.0   0.9978  3.51       0.56   \n",
      "1                 25.0                  67.0   0.9968  3.20       0.68   \n",
      "2                 15.0                  54.0   0.9970  3.26       0.65   \n",
      "3                 17.0                  60.0   0.9980  3.16       0.58   \n",
      "4                 11.0                  34.0   0.9978  3.51       0.56   \n",
      "\n",
      "   alcohol  quality  \n",
      "0      9.4        5  \n",
      "1      9.8        5  \n",
      "2      9.8        5  \n",
      "3      9.8        6  \n",
      "4      9.4        5  \n"
     ]
    }
   ],
   "source": [
    "#📌 1. Importar os dados\n",
    "\n",
    "import pandas as pd\n",
    "\n",
    "# Carregar o CSV\n",
    "df = pd.read_csv('winequality-red.csv')\n",
    "\n",
    "# Ver as primeiras linhas\n",
    "print(df.head())"
   ]
  },
  {
   "cell_type": "code",
   "execution_count": 36,
   "id": "69a28994",
   "metadata": {},
   "outputs": [
    {
     "name": "stdout",
     "output_type": "stream",
     "text": [
      "<class 'pandas.core.frame.DataFrame'>\n",
      "RangeIndex: 1599 entries, 0 to 1598\n",
      "Data columns (total 12 columns):\n",
      " #   Column                Non-Null Count  Dtype  \n",
      "---  ------                --------------  -----  \n",
      " 0   fixed acidity         1599 non-null   float64\n",
      " 1   volatile acidity      1599 non-null   float64\n",
      " 2   citric acid           1599 non-null   float64\n",
      " 3   residual sugar        1599 non-null   float64\n",
      " 4   chlorides             1599 non-null   float64\n",
      " 5   free sulfur dioxide   1599 non-null   float64\n",
      " 6   total sulfur dioxide  1599 non-null   float64\n",
      " 7   density               1599 non-null   float64\n",
      " 8   pH                    1599 non-null   float64\n",
      " 9   sulphates             1599 non-null   float64\n",
      " 10  alcohol               1599 non-null   float64\n",
      " 11  quality               1599 non-null   int64  \n",
      "dtypes: float64(11), int64(1)\n",
      "memory usage: 150.0 KB\n",
      "None\n",
      "\n",
      "fixed acidity           0\n",
      "volatile acidity        0\n",
      "citric acid             0\n",
      "residual sugar          0\n",
      "chlorides               0\n",
      "free sulfur dioxide     0\n",
      "total sulfur dioxide    0\n",
      "density                 0\n",
      "pH                      0\n",
      "sulphates               0\n",
      "alcohol                 0\n",
      "quality                 0\n",
      "dtype: int64\n"
     ]
    }
   ],
   "source": [
    "#📌 2. Verificar informações e dados ausentes\n",
    "\n",
    "# Informações básicas\n",
    "print(df.info())\n",
    "\n",
    "print()\n",
    "\n",
    "# Verificar valores ausentes\n",
    "print(df.isnull().sum())\n"
   ]
  },
  {
   "cell_type": "code",
   "execution_count": 37,
   "id": "0ac8992e",
   "metadata": {},
   "outputs": [
    {
     "name": "stdout",
     "output_type": "stream",
     "text": [
      "       fixed acidity  volatile acidity  citric acid  residual sugar  \\\n",
      "count    1599.000000       1599.000000  1599.000000     1599.000000   \n",
      "mean        8.319637          0.527821     0.270976        2.538806   \n",
      "std         1.741096          0.179060     0.194801        1.409928   \n",
      "min         4.600000          0.120000     0.000000        0.900000   \n",
      "25%         7.100000          0.390000     0.090000        1.900000   \n",
      "50%         7.900000          0.520000     0.260000        2.200000   \n",
      "75%         9.200000          0.640000     0.420000        2.600000   \n",
      "max        15.900000          1.580000     1.000000       15.500000   \n",
      "\n",
      "         chlorides  free sulfur dioxide  total sulfur dioxide      density  \\\n",
      "count  1599.000000          1599.000000           1599.000000  1599.000000   \n",
      "mean      0.087467            15.874922             46.467792     0.996747   \n",
      "std       0.047065            10.460157             32.895324     0.001887   \n",
      "min       0.012000             1.000000              6.000000     0.990070   \n",
      "25%       0.070000             7.000000             22.000000     0.995600   \n",
      "50%       0.079000            14.000000             38.000000     0.996750   \n",
      "75%       0.090000            21.000000             62.000000     0.997835   \n",
      "max       0.611000            72.000000            289.000000     1.003690   \n",
      "\n",
      "                pH    sulphates      alcohol      quality  \n",
      "count  1599.000000  1599.000000  1599.000000  1599.000000  \n",
      "mean      3.311113     0.658149    10.422983     5.636023  \n",
      "std       0.154386     0.169507     1.065668     0.807569  \n",
      "min       2.740000     0.330000     8.400000     3.000000  \n",
      "25%       3.210000     0.550000     9.500000     5.000000  \n",
      "50%       3.310000     0.620000    10.200000     6.000000  \n",
      "75%       3.400000     0.730000    11.100000     6.000000  \n",
      "max       4.010000     2.000000    14.900000     8.000000  \n"
     ]
    }
   ],
   "source": [
    "#📌 3. Estatísticas descritivas\n",
    "\n",
    "print(df.describe())"
   ]
  },
  {
   "cell_type": "code",
   "execution_count": 38,
   "id": "d7369a0c",
   "metadata": {},
   "outputs": [
    {
     "name": "stdout",
     "output_type": "stream",
     "text": [
      "Nenhuma coluna categórica encontrada.\n"
     ]
    }
   ],
   "source": [
    "\n",
    "# Aplicando Label Encoding (caso existam colunas categóricas)\n",
    "colunas_categoricas = df.select_dtypes(include=['object']).columns\n",
    "\n",
    "if len(colunas_categoricas) > 0:\n",
    "    le = LabelEncoder()\n",
    "    for coluna in colunas_categoricas:\n",
    "        df[coluna] = le.fit_transform(df[coluna].astype(str))\n",
    "    print(\"Label Encoding aplicado nas colunas:\", list(colunas_categoricas))\n",
    "else:\n",
    "    print(\"Nenhuma coluna categórica encontrada.\")\n",
    "        "
   ]
  },
  {
   "cell_type": "code",
   "execution_count": 39,
   "id": "92c40773",
   "metadata": {},
   "outputs": [],
   "source": [
    "#📌 4. Tratar os dados (normalização, remoção de outliers etc.)\n",
    "\n",
    "from sklearn.preprocessing import StandardScaler\n",
    "\n",
    "# Separar variáveis independentes (X) e a dependente (y)\n",
    "X = df.drop('density', axis=1)\n",
    "y = df['density']\n",
    "\n",
    "# Normalizar os dados\n",
    "scaler = StandardScaler()\n",
    "X_scaled = scaler.fit_transform(X)\n"
   ]
  },
  {
   "cell_type": "code",
   "execution_count": 40,
   "id": "f5fa53c7",
   "metadata": {},
   "outputs": [
    {
     "name": "stdout",
     "output_type": "stream",
     "text": [
      "MSE por fold: [6.31448431e-07 6.58223741e-07 5.04672331e-07 5.61817996e-07\n",
      " 5.93189583e-07 6.71364078e-07 4.92138195e-07 5.85975606e-07\n",
      " 5.80806916e-07 6.60921316e-07]\n",
      "MSE médio: 5.940558194020038e-07\n",
      "\n",
      "MAE por fold: [0.00057283 0.00057652 0.00052119 0.0005689  0.00059457 0.0006086\n",
      " 0.00054954 0.00055425 0.00054853 0.000621  ]\n",
      "MAE médio: 0.0005715938331347067\n",
      "\n",
      "R² por fold: [0.77866311 0.80827303 0.78688738 0.8266156  0.84781758 0.86484313\n",
      " 0.77607892 0.77126227 0.85371966 0.83914236]\n",
      "R² médio: 0.8153303037596116\n",
      "\n",
      "RMSE por fold: [0.00079464 0.00081131 0.0007104  0.00074955 0.00077019 0.00081937\n",
      " 0.00070153 0.00076549 0.00076211 0.00081297]\n",
      "RMSE médio: 0.0007697545052044463\n"
     ]
    }
   ],
   "source": [
    "import pandas as pd\n",
    "import numpy as np\n",
    "from sklearn.model_selection import train_test_split, cross_val_score, KFold\n",
    "from sklearn.linear_model import LinearRegression\n",
    "from sklearn.metrics import mean_absolute_error, mean_squared_error, r2_score, make_scorer\n",
    "\n",
    "# 4. Dividir os dados\n",
    "x_treino, x_teste, y_treino, y_teste = train_test_split(X_scaled, y, test_size=0.25, random_state=42)\n",
    "\n",
    "# 5. Criar o modelo\n",
    "modelo = LinearRegression()\n",
    "\n",
    "# 6. K-Fold com semente\n",
    "kfold = KFold(n_splits=10, shuffle=True, random_state=42)\n",
    "\n",
    "# 7. Scorers\n",
    "mse_scorer = make_scorer(mean_squared_error, greater_is_better=False)\n",
    "mae_scorer = make_scorer(mean_absolute_error, greater_is_better=False)\n",
    "r2_scorer = make_scorer(r2_score)\n",
    "\n",
    "# 8. Cross-validation\n",
    "mse_scores = cross_val_score(modelo, x_treino, y_treino, cv=kfold, scoring=mse_scorer)\n",
    "mae_scores = cross_val_score(modelo, x_treino, y_treino, cv=kfold, scoring=mae_scorer)\n",
    "r2_scores = cross_val_score(modelo, x_treino, y_treino, cv=kfold, scoring=r2_scorer)\n",
    "\n",
    "# 9. Resultados\n",
    "print(\"MSE por fold:\", -mse_scores)\n",
    "print(\"MSE médio:\", -np.mean(mse_scores))\n",
    "print()\n",
    "\n",
    "print(\"MAE por fold:\", -mae_scores)\n",
    "print(\"MAE médio:\", -np.mean(mae_scores))\n",
    "print()\n",
    "\n",
    "print(\"R² por fold:\", r2_scores)\n",
    "print(\"R² médio:\", np.mean(r2_scores))\n",
    "print()\n",
    "\n",
    "rmse_scores = np.sqrt(-mse_scores)\n",
    "print(\"RMSE por fold:\", rmse_scores)\n",
    "print(\"RMSE médio:\", np.mean(rmse_scores))\n"
   ]
  },
  {
   "cell_type": "code",
   "execution_count": 42,
   "id": "220aaab7",
   "metadata": {},
   "outputs": [
    {
     "name": "stdout",
     "output_type": "stream",
     "text": [
      "\n",
      "# Avaliação Final no Conjunto de Teste\n",
      "Coeficientes do modelo:\n",
      " fixed acidity           0.001615\n",
      "volatile acidity        0.000113\n",
      "citric acid             0.000010\n",
      "residual sugar          0.000601\n",
      "chlorides               0.000064\n",
      "free sulfur dioxide    -0.000097\n",
      "total sulfur dioxide    0.000092\n",
      "pH                      0.000776\n",
      "sulphates               0.000228\n",
      "alcohol                -0.000967\n",
      "quality                -0.000018\n",
      "dtype: float64\n",
      "\n",
      "Coeficiente linear (intercepto): 0.9967523973271756\n",
      "Erro quadrático médio (MSE): 5.234703249521754e-07\n",
      "Coeficiente de determinação (R²): 0.8711142590349822\n"
     ]
    }
   ],
   "source": [
    "# Transformar x_treino em DataFrame para manter os nomes das colunas\n",
    "x_treino_df = pd.DataFrame(x_treino, columns=X.columns)\n",
    "x_teste_df = pd.DataFrame(x_teste, columns=X.columns)\n",
    "\n",
    "# Treinar o modelo\n",
    "modelo.fit(x_treino, y_treino)\n",
    "y_pred = modelo.predict(x_teste)\n",
    "\n",
    "print(\"\\n# Avaliação Final no Conjunto de Teste\")\n",
    "# Exibir os coeficientes com nomes das colunas\n",
    "coeficientes = pd.Series(modelo.coef_, index=X.columns)\n",
    "print(\"Coeficientes do modelo:\\n\", coeficientes)\n",
    "print()\n",
    "print(\"Coeficiente linear (intercepto):\", modelo.intercept_)\n",
    "print(\"Erro quadrático médio (MSE):\", mean_squared_error(y_teste, y_pred))\n",
    "print(\"Coeficiente de determinação (R²):\", r2_score(y_teste, y_pred))\n"
   ]
  }
 ],
 "metadata": {
  "kernelspec": {
   "display_name": "venv",
   "language": "python",
   "name": "python3"
  },
  "language_info": {
   "codemirror_mode": {
    "name": "ipython",
    "version": 3
   },
   "file_extension": ".py",
   "mimetype": "text/x-python",
   "name": "python",
   "nbconvert_exporter": "python",
   "pygments_lexer": "ipython3",
   "version": "3.13.3"
  }
 },
 "nbformat": 4,
 "nbformat_minor": 5
}
